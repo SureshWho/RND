{
  "nbformat": 4,
  "nbformat_minor": 0,
  "metadata": {
    "colab": {
      "name": "cnn.ipynb",
      "version": "0.3.2",
      "provenance": [],
      "collapsed_sections": [],
      "include_colab_link": true
    },
    "kernelspec": {
      "name": "python3",
      "display_name": "Python 3"
    }
  },
  "cells": [
    {
      "cell_type": "markdown",
      "metadata": {
        "id": "view-in-github",
        "colab_type": "text"
      },
      "source": [
        "<a href=\"https://colab.research.google.com/github/suresh80x8/RND/blob/master/cnn.ipynb\" target=\"_parent\"><img src=\"https://colab.research.google.com/assets/colab-badge.svg\" alt=\"Open In Colab\"/></a>"
      ]
    },
    {
      "metadata": {
        "id": "ah_Gte05kqJ3",
        "colab_type": "text"
      },
      "cell_type": "markdown",
      "source": [
        "#Convolutional Neural Network\n",
        "\n",
        "Example give how to do your own convolutional neural network without using a frame work.\n",
        "\n",
        "**Notations**\n",
        "- Superscript $[l]$ denotes nodes at $l^{th}$ layer\n",
        "  - Example: $a^{[4]}$ denotes activation for layer 4. \n",
        "- Superscript $(i)$ denotes object from $i^{th}$ training example\n",
        "  - Example: $x^{(4)}$ . denotes $4^{th}$ training example.\n",
        "- Lowerscript $i$ denotes  $i^{th}$ element of the vector\n",
        "  - Example: $x^{[4]}_3$ . denotes $4^{th}$ $3^{rd}$ node in the $4^{th}$ layer.\n",
        "  "
      ]
    },
    {
      "metadata": {
        "id": "hSwmZ7AOB9Uw",
        "colab_type": "text"
      },
      "cell_type": "markdown",
      "source": [
        "## Import packages"
      ]
    },
    {
      "metadata": {
        "id": "n43XxhIwBTHY",
        "colab_type": "code",
        "colab": {}
      },
      "cell_type": "code",
      "source": [
        "import numpy as np\n",
        "import matplotlib.pyplot as plt"
      ],
      "execution_count": 0,
      "outputs": []
    },
    {
      "metadata": {
        "id": "hrRCT2-aBIMw",
        "colab_type": "text"
      },
      "cell_type": "markdown",
      "source": [
        "## Zero Padding\n"
      ]
    },
    {
      "metadata": {
        "id": "Ibn_uYogknRf",
        "colab_type": "code",
        "colab": {}
      },
      "cell_type": "code",
      "source": [
        "def zero_pad(X, pad_size):\n",
        "    \"\"\"\n",
        "    Pad with zeros all images of the dataset X. The padding is applied to the\n",
        "    height and width of an image.\n",
        "    \n",
        "    Argument:\n",
        "    X        -- python numpy array of shape (m, n_H, n_W, n_C) representing a batch of m images\n",
        "    pad_size -- integer, amount of padding around each image on vertical and horizontal dimensions\n",
        "    \n",
        "    Returns:\n",
        "    X_pad -- padded image of shape (m, n_H + 2*pad, n_W + 2*pad, n_C)\n",
        "    \"\"\"\n",
        "    X_padded = np.pad (X, ((0,0), (pad,pad), (pad,pad), (0,0)), 'constant', constant_values = (0,0))"
      ],
      "execution_count": 0,
      "outputs": []
    },
    {
      "metadata": {
        "id": "DDkdLmvEEbrW",
        "colab_type": "code",
        "colab": {}
      },
      "cell_type": "code",
      "source": [
        ""
      ],
      "execution_count": 0,
      "outputs": []
    }
  ]
}